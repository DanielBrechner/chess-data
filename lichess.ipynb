{
 "cells": [
  {
   "cell_type": "code",
   "execution_count": 1,
   "id": "997effac",
   "metadata": {},
   "outputs": [
    {
     "name": "stdout",
     "output_type": "stream",
     "text": [
      "Collecting berserk\n",
      "  Downloading berserk-0.10.0-py2.py3-none-any.whl (21 kB)\n",
      "Collecting deprecated~=1.2.7\n",
      "  Downloading Deprecated-1.2.13-py2.py3-none-any.whl (9.6 kB)\n",
      "Requirement already satisfied: requests~=2.20 in ./opt/anaconda3/lib/python3.9/site-packages (from berserk) (2.27.1)\n",
      "Collecting ndjson~=0.2\n",
      "  Downloading ndjson-0.3.1-py2.py3-none-any.whl (5.3 kB)\n",
      "Requirement already satisfied: wrapt<2,>=1.10 in ./opt/anaconda3/lib/python3.9/site-packages (from deprecated~=1.2.7->berserk) (1.12.1)\n",
      "Requirement already satisfied: certifi>=2017.4.17 in ./opt/anaconda3/lib/python3.9/site-packages (from requests~=2.20->berserk) (2021.10.8)\n",
      "Requirement already satisfied: idna<4,>=2.5 in ./opt/anaconda3/lib/python3.9/site-packages (from requests~=2.20->berserk) (3.3)\n",
      "Requirement already satisfied: urllib3<1.27,>=1.21.1 in ./opt/anaconda3/lib/python3.9/site-packages (from requests~=2.20->berserk) (1.26.9)\n",
      "Requirement already satisfied: charset-normalizer~=2.0.0 in ./opt/anaconda3/lib/python3.9/site-packages (from requests~=2.20->berserk) (2.0.4)\n",
      "Installing collected packages: ndjson, deprecated, berserk\n",
      "Successfully installed berserk-0.10.0 deprecated-1.2.13 ndjson-0.3.1\n"
     ]
    }
   ],
   "source": [
    "!pip install berserk"
   ]
  },
  {
   "cell_type": "code",
   "execution_count": 22,
   "id": "71f3fd7f",
   "metadata": {},
   "outputs": [],
   "source": [
    "import berserk\n",
    "import matplotlib.pyplot as plt\n",
    "import numpy as np\n"
   ]
  },
  {
   "cell_type": "code",
   "execution_count": null,
   "id": "8073f399",
   "metadata": {},
   "outputs": [],
   "source": [
    "from secrets.py import api_key"
   ]
  },
  {
   "cell_type": "code",
   "execution_count": 3,
   "id": "fdef28d3",
   "metadata": {},
   "outputs": [],
   "source": [
    "session = berserk.TokenSession('api_key')\n",
    "client = berserk.Client (session=session)"
   ]
  },
  {
   "cell_type": "code",
   "execution_count": 4,
   "id": "1de2f6d1",
   "metadata": {},
   "outputs": [
    {
     "data": {
      "text/plain": [
       "{'id': 'brechner',\n",
       " 'username': 'Brechner',\n",
       " 'perfs': {'blitz': {'games': 1465, 'rating': 1625, 'rd': 45, 'prog': -18},\n",
       "  'puzzle': {'games': 3, 'rating': 1647, 'rd': 307, 'prog': 0, 'prov': True},\n",
       "  'bullet': {'games': 9, 'rating': 1223, 'rd': 151, 'prog': 0, 'prov': True},\n",
       "  'correspondence': {'games': 0,\n",
       "   'rating': 1500,\n",
       "   'rd': 500,\n",
       "   'prog': 0,\n",
       "   'prov': True},\n",
       "  'classical': {'games': 0,\n",
       "   'rating': 1500,\n",
       "   'rd': 500,\n",
       "   'prog': 0,\n",
       "   'prov': True},\n",
       "  'rapid': {'games': 0, 'rating': 1500, 'rd': 500, 'prog': 0, 'prov': True}},\n",
       " 'createdAt': datetime.datetime(2019, 1, 20, 11, 46, 42, 448000, tzinfo=datetime.timezone.utc),\n",
       " 'online': False,\n",
       " 'seenAt': datetime.datetime(2022, 9, 26, 20, 22, 51, 682000, tzinfo=datetime.timezone.utc),\n",
       " 'playTime': {'total': 326236, 'tv': 0},\n",
       " 'url': 'https://lichess.org/@/Brechner',\n",
       " 'count': {'all': 1475,\n",
       "  'rated': 1474,\n",
       "  'ai': 0,\n",
       "  'draw': 66,\n",
       "  'drawH': 66,\n",
       "  'loss': 707,\n",
       "  'lossH': 707,\n",
       "  'win': 702,\n",
       "  'winH': 702,\n",
       "  'bookmark': 0,\n",
       "  'playing': 0,\n",
       "  'import': 0,\n",
       "  'me': 0},\n",
       " 'followable': True,\n",
       " 'following': False,\n",
       " 'blocking': False,\n",
       " 'followsYou': False}"
      ]
     },
     "execution_count": 4,
     "metadata": {},
     "output_type": "execute_result"
    }
   ],
   "source": [
    "client.account.get()"
   ]
  },
  {
   "cell_type": "code",
   "execution_count": 25,
   "id": "50b48d0a",
   "metadata": {},
   "outputs": [],
   "source": [
    "me = client.users.get_rating_history('Brechner')"
   ]
  },
  {
   "cell_type": "code",
   "execution_count": 32,
   "id": "273361fd",
   "metadata": {},
   "outputs": [
    {
     "data": {
      "text/plain": [
       "list"
      ]
     },
     "execution_count": 32,
     "metadata": {},
     "output_type": "execute_result"
    }
   ],
   "source": [
    "type(me)"
   ]
  },
  {
   "cell_type": "code",
   "execution_count": 33,
   "id": "2aa4bc0f",
   "metadata": {},
   "outputs": [
    {
     "data": {
      "text/plain": [
       "15"
      ]
     },
     "execution_count": 33,
     "metadata": {},
     "output_type": "execute_result"
    }
   ],
   "source": [
    "len(me)"
   ]
  },
  {
   "cell_type": "code",
   "execution_count": 34,
   "id": "42103bc7",
   "metadata": {},
   "outputs": [
    {
     "name": "stdout",
     "output_type": "stream",
     "text": [
      "{'name': 'Blitz', 'points': [Entry(year=2021, month=6, day=28, rating=1210), Entry(year=2021, month=6, day=29, rating=1454), Entry(year=2021, month=6, day=30, rating=1572), Entry(year=2021, month=6, day=31, rating=1556), Entry(year=2021, month=7, day=1, rating=1614), Entry(year=2021, month=7, day=2, rating=1613), Entry(year=2021, month=7, day=3, rating=1627), Entry(year=2021, month=7, day=4, rating=1649), Entry(year=2021, month=7, day=6, rating=1692), Entry(year=2021, month=7, day=7, rating=1683), Entry(year=2021, month=7, day=14, rating=1661), Entry(year=2021, month=7, day=15, rating=1660), Entry(year=2021, month=7, day=16, rating=1620), Entry(year=2021, month=7, day=17, rating=1640), Entry(year=2021, month=7, day=18, rating=1638), Entry(year=2021, month=7, day=19, rating=1659), Entry(year=2021, month=7, day=20, rating=1608), Entry(year=2021, month=7, day=21, rating=1611), Entry(year=2021, month=7, day=22, rating=1634), Entry(year=2021, month=7, day=23, rating=1629), Entry(year=2021, month=7, day=24, rating=1635), Entry(year=2021, month=7, day=25, rating=1631), Entry(year=2021, month=7, day=26, rating=1628), Entry(year=2021, month=7, day=27, rating=1612), Entry(year=2021, month=7, day=28, rating=1602), Entry(year=2021, month=7, day=29, rating=1607), Entry(year=2021, month=7, day=30, rating=1613), Entry(year=2021, month=7, day=31, rating=1601), Entry(year=2021, month=8, day=1, rating=1591), Entry(year=2021, month=8, day=2, rating=1592), Entry(year=2021, month=8, day=3, rating=1596), Entry(year=2021, month=8, day=4, rating=1595), Entry(year=2021, month=8, day=5, rating=1606), Entry(year=2021, month=8, day=7, rating=1636), Entry(year=2021, month=8, day=8, rating=1618), Entry(year=2021, month=8, day=9, rating=1606), Entry(year=2021, month=8, day=10, rating=1590), Entry(year=2021, month=8, day=11, rating=1595), Entry(year=2021, month=8, day=12, rating=1596), Entry(year=2021, month=8, day=13, rating=1590), Entry(year=2021, month=8, day=14, rating=1595), Entry(year=2021, month=8, day=15, rating=1600), Entry(year=2021, month=8, day=16, rating=1596), Entry(year=2021, month=8, day=17, rating=1607), Entry(year=2021, month=8, day=18, rating=1605), Entry(year=2021, month=8, day=19, rating=1598), Entry(year=2021, month=8, day=20, rating=1596), Entry(year=2021, month=8, day=21, rating=1607), Entry(year=2021, month=8, day=22, rating=1602), Entry(year=2021, month=8, day=23, rating=1598), Entry(year=2021, month=8, day=24, rating=1607), Entry(year=2021, month=8, day=25, rating=1590), Entry(year=2021, month=8, day=26, rating=1585), Entry(year=2021, month=8, day=27, rating=1576), Entry(year=2021, month=8, day=28, rating=1572), Entry(year=2021, month=8, day=29, rating=1582), Entry(year=2021, month=8, day=30, rating=1576), Entry(year=2021, month=9, day=1, rating=1571), Entry(year=2021, month=9, day=2, rating=1588), Entry(year=2021, month=9, day=3, rating=1607), Entry(year=2021, month=9, day=4, rating=1577), Entry(year=2021, month=9, day=5, rating=1583), Entry(year=2021, month=9, day=6, rating=1602), Entry(year=2021, month=9, day=7, rating=1607), Entry(year=2021, month=9, day=8, rating=1626), Entry(year=2021, month=9, day=9, rating=1632), Entry(year=2021, month=9, day=10, rating=1639), Entry(year=2021, month=9, day=11, rating=1639), Entry(year=2021, month=9, day=12, rating=1628), Entry(year=2021, month=9, day=13, rating=1636), Entry(year=2021, month=9, day=15, rating=1629), Entry(year=2021, month=9, day=16, rating=1629), Entry(year=2021, month=9, day=18, rating=1639), Entry(year=2021, month=9, day=19, rating=1645), Entry(year=2021, month=9, day=20, rating=1641), Entry(year=2021, month=9, day=21, rating=1635), Entry(year=2021, month=9, day=22, rating=1641), Entry(year=2021, month=9, day=23, rating=1639), Entry(year=2021, month=9, day=24, rating=1640), Entry(year=2021, month=9, day=25, rating=1621), Entry(year=2021, month=9, day=26, rating=1605), Entry(year=2021, month=9, day=28, rating=1589), Entry(year=2021, month=9, day=30, rating=1582), Entry(year=2021, month=9, day=31, rating=1598), Entry(year=2021, month=10, day=1, rating=1588), Entry(year=2021, month=10, day=2, rating=1571), Entry(year=2021, month=10, day=3, rating=1570), Entry(year=2021, month=10, day=4, rating=1547), Entry(year=2021, month=10, day=5, rating=1549), Entry(year=2021, month=10, day=6, rating=1561), Entry(year=2021, month=10, day=7, rating=1555), Entry(year=2021, month=10, day=8, rating=1561), Entry(year=2021, month=10, day=9, rating=1566), Entry(year=2021, month=10, day=10, rating=1566), Entry(year=2021, month=10, day=11, rating=1578), Entry(year=2021, month=10, day=14, rating=1578), Entry(year=2021, month=10, day=15, rating=1579), Entry(year=2021, month=10, day=16, rating=1591), Entry(year=2021, month=10, day=17, rating=1597), Entry(year=2021, month=10, day=18, rating=1603), Entry(year=2021, month=10, day=19, rating=1602), Entry(year=2021, month=10, day=20, rating=1609), Entry(year=2021, month=10, day=21, rating=1616), Entry(year=2021, month=10, day=22, rating=1628), Entry(year=2021, month=10, day=23, rating=1633), Entry(year=2021, month=10, day=24, rating=1634), Entry(year=2021, month=10, day=25, rating=1634), Entry(year=2021, month=10, day=26, rating=1629), Entry(year=2021, month=10, day=27, rating=1623), Entry(year=2021, month=10, day=28, rating=1617), Entry(year=2021, month=10, day=30, rating=1623), Entry(year=2021, month=11, day=2, rating=1628), Entry(year=2021, month=11, day=3, rating=1617), Entry(year=2021, month=11, day=4, rating=1635), Entry(year=2021, month=11, day=5, rating=1641), Entry(year=2021, month=11, day=6, rating=1635), Entry(year=2021, month=11, day=7, rating=1624), Entry(year=2021, month=11, day=10, rating=1626), Entry(year=2021, month=11, day=12, rating=1632), Entry(year=2021, month=11, day=13, rating=1626), Entry(year=2021, month=11, day=14, rating=1620), Entry(year=2021, month=11, day=17, rating=1608), Entry(year=2021, month=11, day=20, rating=1608), Entry(year=2021, month=11, day=21, rating=1602), Entry(year=2021, month=11, day=23, rating=1595), Entry(year=2021, month=11, day=24, rating=1599), Entry(year=2021, month=11, day=25, rating=1602), Entry(year=2021, month=11, day=26, rating=1597), Entry(year=2021, month=11, day=27, rating=1614), Entry(year=2021, month=11, day=28, rating=1620), Entry(year=2021, month=11, day=29, rating=1610), Entry(year=2021, month=11, day=30, rating=1604), Entry(year=2021, month=11, day=31, rating=1610), Entry(year=2022, month=0, day=2, rating=1608), Entry(year=2022, month=0, day=3, rating=1608), Entry(year=2022, month=0, day=4, rating=1626), Entry(year=2022, month=0, day=5, rating=1625), Entry(year=2022, month=0, day=6, rating=1648), Entry(year=2022, month=0, day=7, rating=1648), Entry(year=2022, month=0, day=8, rating=1630), Entry(year=2022, month=0, day=9, rating=1637), Entry(year=2022, month=0, day=10, rating=1638), Entry(year=2022, month=0, day=11, rating=1644), Entry(year=2022, month=0, day=12, rating=1650), Entry(year=2022, month=0, day=13, rating=1634), Entry(year=2022, month=0, day=14, rating=1628), Entry(year=2022, month=0, day=15, rating=1622), Entry(year=2022, month=0, day=16, rating=1616), Entry(year=2022, month=0, day=17, rating=1601), Entry(year=2022, month=0, day=18, rating=1600), Entry(year=2022, month=0, day=19, rating=1597), Entry(year=2022, month=0, day=21, rating=1602), Entry(year=2022, month=0, day=22, rating=1607), Entry(year=2022, month=0, day=23, rating=1612), Entry(year=2022, month=0, day=26, rating=1612), Entry(year=2022, month=0, day=27, rating=1596), Entry(year=2022, month=0, day=28, rating=1581), Entry(year=2022, month=0, day=29, rating=1591), Entry(year=2022, month=0, day=30, rating=1578), Entry(year=2022, month=1, day=1, rating=1572), Entry(year=2022, month=1, day=2, rating=1573), Entry(year=2022, month=1, day=3, rating=1592), Entry(year=2022, month=1, day=4, rating=1569), Entry(year=2022, month=1, day=5, rating=1587), Entry(year=2022, month=1, day=6, rating=1581), Entry(year=2022, month=1, day=7, rating=1582), Entry(year=2022, month=1, day=8, rating=1564), Entry(year=2022, month=1, day=9, rating=1564), Entry(year=2022, month=1, day=11, rating=1590), Entry(year=2022, month=1, day=12, rating=1614), Entry(year=2022, month=1, day=13, rating=1598), Entry(year=2022, month=1, day=14, rating=1605), Entry(year=2022, month=1, day=15, rating=1608), Entry(year=2022, month=1, day=16, rating=1613), Entry(year=2022, month=1, day=19, rating=1631), Entry(year=2022, month=1, day=21, rating=1647), Entry(year=2022, month=1, day=23, rating=1628), Entry(year=2022, month=1, day=24, rating=1640), Entry(year=2022, month=1, day=26, rating=1639), Entry(year=2022, month=1, day=27, rating=1639), Entry(year=2022, month=1, day=28, rating=1652), Entry(year=2022, month=2, day=1, rating=1695), Entry(year=2022, month=2, day=3, rating=1685), Entry(year=2022, month=2, day=5, rating=1679), Entry(year=2022, month=2, day=6, rating=1672), Entry(year=2022, month=2, day=7, rating=1666), Entry(year=2022, month=2, day=8, rating=1672), Entry(year=2022, month=2, day=10, rating=1677), Entry(year=2022, month=2, day=11, rating=1676), Entry(year=2022, month=2, day=12, rating=1680), Entry(year=2022, month=2, day=13, rating=1681), Entry(year=2022, month=2, day=14, rating=1688), Entry(year=2022, month=2, day=15, rating=1695), Entry(year=2022, month=2, day=16, rating=1700), Entry(year=2022, month=2, day=17, rating=1703), Entry(year=2022, month=2, day=18, rating=1709), Entry(year=2022, month=2, day=19, rating=1710), Entry(year=2022, month=2, day=20, rating=1680), Entry(year=2022, month=2, day=22, rating=1708), Entry(year=2022, month=2, day=23, rating=1692), Entry(year=2022, month=2, day=24, rating=1677), Entry(year=2022, month=2, day=25, rating=1678), Entry(year=2022, month=2, day=26, rating=1669), Entry(year=2022, month=2, day=28, rating=1643), Entry(year=2022, month=2, day=29, rating=1657), Entry(year=2022, month=2, day=30, rating=1646), Entry(year=2022, month=2, day=31, rating=1628), Entry(year=2022, month=3, day=1, rating=1626), Entry(year=2022, month=3, day=2, rating=1631), Entry(year=2022, month=3, day=3, rating=1644), Entry(year=2022, month=3, day=4, rating=1650), Entry(year=2022, month=3, day=5, rating=1628), Entry(year=2022, month=3, day=6, rating=1632), Entry(year=2022, month=3, day=7, rating=1638), Entry(year=2022, month=3, day=8, rating=1634), Entry(year=2022, month=3, day=9, rating=1619), Entry(year=2022, month=3, day=11, rating=1614), Entry(year=2022, month=3, day=12, rating=1605), Entry(year=2022, month=3, day=13, rating=1605), Entry(year=2022, month=3, day=14, rating=1600), Entry(year=2022, month=3, day=15, rating=1619), Entry(year=2022, month=3, day=17, rating=1621), Entry(year=2022, month=3, day=19, rating=1630), Entry(year=2022, month=3, day=21, rating=1623), Entry(year=2022, month=3, day=22, rating=1624), Entry(year=2022, month=3, day=23, rating=1634), Entry(year=2022, month=3, day=24, rating=1628), Entry(year=2022, month=3, day=25, rating=1628), Entry(year=2022, month=3, day=26, rating=1617), Entry(year=2022, month=3, day=27, rating=1615), Entry(year=2022, month=3, day=28, rating=1598), Entry(year=2022, month=3, day=29, rating=1627), Entry(year=2022, month=3, day=30, rating=1645), Entry(year=2022, month=4, day=1, rating=1653), Entry(year=2022, month=4, day=2, rating=1657), Entry(year=2022, month=4, day=3, rating=1633), Entry(year=2022, month=4, day=4, rating=1653), Entry(year=2022, month=4, day=5, rating=1652), Entry(year=2022, month=4, day=6, rating=1657), Entry(year=2022, month=4, day=7, rating=1650), Entry(year=2022, month=4, day=8, rating=1648), Entry(year=2022, month=4, day=9, rating=1656), Entry(year=2022, month=4, day=10, rating=1651), Entry(year=2022, month=4, day=11, rating=1652), Entry(year=2022, month=4, day=12, rating=1664), Entry(year=2022, month=4, day=13, rating=1670), Entry(year=2022, month=4, day=14, rating=1659), Entry(year=2022, month=4, day=15, rating=1674), Entry(year=2022, month=4, day=16, rating=1664), Entry(year=2022, month=4, day=17, rating=1674), Entry(year=2022, month=4, day=18, rating=1645), Entry(year=2022, month=4, day=19, rating=1657), Entry(year=2022, month=4, day=20, rating=1619), Entry(year=2022, month=4, day=21, rating=1605), Entry(year=2022, month=4, day=22, rating=1616), Entry(year=2022, month=4, day=23, rating=1622), Entry(year=2022, month=4, day=24, rating=1613), Entry(year=2022, month=4, day=25, rating=1610), Entry(year=2022, month=4, day=26, rating=1614), Entry(year=2022, month=4, day=27, rating=1613), Entry(year=2022, month=4, day=28, rating=1609), Entry(year=2022, month=4, day=29, rating=1590), Entry(year=2022, month=4, day=31, rating=1584), Entry(year=2022, month=5, day=1, rating=1597), Entry(year=2022, month=5, day=2, rating=1575), Entry(year=2022, month=5, day=8, rating=1554), Entry(year=2022, month=6, day=9, rating=1575), Entry(year=2022, month=6, day=10, rating=1584), Entry(year=2022, month=6, day=12, rating=1594), Entry(year=2022, month=6, day=16, rating=1603), Entry(year=2022, month=6, day=19, rating=1604), Entry(year=2022, month=6, day=21, rating=1613), Entry(year=2022, month=6, day=23, rating=1613), Entry(year=2022, month=6, day=28, rating=1601), Entry(year=2022, month=6, day=29, rating=1632), Entry(year=2022, month=6, day=30, rating=1640), Entry(year=2022, month=6, day=31, rating=1646), Entry(year=2022, month=7, day=1, rating=1661), Entry(year=2022, month=7, day=3, rating=1655), Entry(year=2022, month=7, day=4, rating=1660), Entry(year=2022, month=7, day=5, rating=1643), Entry(year=2022, month=7, day=7, rating=1637), Entry(year=2022, month=7, day=8, rating=1649), Entry(year=2022, month=7, day=9, rating=1673), Entry(year=2022, month=7, day=10, rating=1665), Entry(year=2022, month=7, day=11, rating=1653), Entry(year=2022, month=7, day=12, rating=1652), Entry(year=2022, month=7, day=13, rating=1649), Entry(year=2022, month=7, day=15, rating=1670), Entry(year=2022, month=7, day=16, rating=1675), Entry(year=2022, month=7, day=17, rating=1681), Entry(year=2022, month=7, day=18, rating=1700), Entry(year=2022, month=7, day=19, rating=1707), Entry(year=2022, month=7, day=20, rating=1684), Entry(year=2022, month=7, day=21, rating=1685), Entry(year=2022, month=7, day=22, rating=1685), Entry(year=2022, month=7, day=23, rating=1704), Entry(year=2022, month=7, day=24, rating=1691), Entry(year=2022, month=7, day=26, rating=1691), Entry(year=2022, month=7, day=28, rating=1685), Entry(year=2022, month=7, day=29, rating=1685), Entry(year=2022, month=7, day=30, rating=1680), Entry(year=2022, month=7, day=31, rating=1671), Entry(year=2022, month=8, day=2, rating=1677), Entry(year=2022, month=8, day=4, rating=1671), Entry(year=2022, month=8, day=5, rating=1647), Entry(year=2022, month=8, day=6, rating=1642), Entry(year=2022, month=8, day=7, rating=1647), Entry(year=2022, month=8, day=8, rating=1654), Entry(year=2022, month=8, day=9, rating=1642), Entry(year=2022, month=8, day=10, rating=1643), Entry(year=2022, month=8, day=11, rating=1643), Entry(year=2022, month=8, day=12, rating=1633), Entry(year=2022, month=8, day=13, rating=1623), Entry(year=2022, month=8, day=15, rating=1619), Entry(year=2022, month=8, day=16, rating=1625), Entry(year=2022, month=8, day=17, rating=1614), Entry(year=2022, month=8, day=18, rating=1623), Entry(year=2022, month=8, day=20, rating=1611), Entry(year=2022, month=8, day=21, rating=1637), Entry(year=2022, month=8, day=22, rating=1631), Entry(year=2022, month=8, day=23, rating=1643), Entry(year=2022, month=8, day=24, rating=1637), Entry(year=2022, month=8, day=25, rating=1620), Entry(year=2022, month=8, day=26, rating=1625), Entry(year=2022, month=8, day=28, rating=1608), Entry(year=2022, month=8, day=29, rating=1618)]}\n"
     ]
    }
   ],
   "source": [
    "print(me[1])"
   ]
  },
  {
   "cell_type": "code",
   "execution_count": 47,
   "id": "29544060",
   "metadata": {},
   "outputs": [
    {
     "name": "stdout",
     "output_type": "stream",
     "text": [
      "name\n",
      "points\n"
     ]
    }
   ],
   "source": [
    "for x in me[1]:\n",
    "    print(x)"
   ]
  },
  {
   "cell_type": "code",
   "execution_count": 44,
   "id": "f28e6954",
   "metadata": {},
   "outputs": [
    {
     "data": {
      "text/plain": [
       "str"
      ]
     },
     "execution_count": 44,
     "metadata": {},
     "output_type": "execute_result"
    }
   ],
   "source": [
    "type(x)"
   ]
  },
  {
   "cell_type": "code",
   "execution_count": 72,
   "id": "c802d620",
   "metadata": {},
   "outputs": [],
   "source": [
    "import pandas as pd"
   ]
  },
  {
   "cell_type": "code",
   "execution_count": 82,
   "id": "736fa483",
   "metadata": {},
   "outputs": [
    {
     "data": {
      "text/html": [
       "<div>\n",
       "<style scoped>\n",
       "    .dataframe tbody tr th:only-of-type {\n",
       "        vertical-align: middle;\n",
       "    }\n",
       "\n",
       "    .dataframe tbody tr th {\n",
       "        vertical-align: top;\n",
       "    }\n",
       "\n",
       "    .dataframe thead th {\n",
       "        text-align: right;\n",
       "    }\n",
       "</style>\n",
       "<table border=\"1\" class=\"dataframe\">\n",
       "  <thead>\n",
       "    <tr style=\"text-align: right;\">\n",
       "      <th></th>\n",
       "      <th>name</th>\n",
       "      <th>points</th>\n",
       "    </tr>\n",
       "  </thead>\n",
       "  <tbody>\n",
       "    <tr>\n",
       "      <th>0</th>\n",
       "      <td>Blitz</td>\n",
       "      <td>(2021, 6, 28, 1210)</td>\n",
       "    </tr>\n",
       "    <tr>\n",
       "      <th>1</th>\n",
       "      <td>Blitz</td>\n",
       "      <td>(2021, 6, 29, 1454)</td>\n",
       "    </tr>\n",
       "    <tr>\n",
       "      <th>2</th>\n",
       "      <td>Blitz</td>\n",
       "      <td>(2021, 6, 30, 1572)</td>\n",
       "    </tr>\n",
       "    <tr>\n",
       "      <th>3</th>\n",
       "      <td>Blitz</td>\n",
       "      <td>(2021, 6, 31, 1556)</td>\n",
       "    </tr>\n",
       "    <tr>\n",
       "      <th>4</th>\n",
       "      <td>Blitz</td>\n",
       "      <td>(2021, 7, 1, 1614)</td>\n",
       "    </tr>\n",
       "    <tr>\n",
       "      <th>...</th>\n",
       "      <td>...</td>\n",
       "      <td>...</td>\n",
       "    </tr>\n",
       "    <tr>\n",
       "      <th>319</th>\n",
       "      <td>Blitz</td>\n",
       "      <td>(2022, 8, 21, 1637)</td>\n",
       "    </tr>\n",
       "    <tr>\n",
       "      <th>320</th>\n",
       "      <td>Blitz</td>\n",
       "      <td>(2022, 8, 22, 1631)</td>\n",
       "    </tr>\n",
       "    <tr>\n",
       "      <th>321</th>\n",
       "      <td>Blitz</td>\n",
       "      <td>(2022, 8, 23, 1643)</td>\n",
       "    </tr>\n",
       "    <tr>\n",
       "      <th>322</th>\n",
       "      <td>Blitz</td>\n",
       "      <td>(2022, 8, 24, 1637)</td>\n",
       "    </tr>\n",
       "    <tr>\n",
       "      <th>323</th>\n",
       "      <td>Blitz</td>\n",
       "      <td>(2022, 8, 25, 1620)</td>\n",
       "    </tr>\n",
       "  </tbody>\n",
       "</table>\n",
       "<p>324 rows × 2 columns</p>\n",
       "</div>"
      ],
      "text/plain": [
       "      name               points\n",
       "0    Blitz  (2021, 6, 28, 1210)\n",
       "1    Blitz  (2021, 6, 29, 1454)\n",
       "2    Blitz  (2021, 6, 30, 1572)\n",
       "3    Blitz  (2021, 6, 31, 1556)\n",
       "4    Blitz   (2021, 7, 1, 1614)\n",
       "..     ...                  ...\n",
       "319  Blitz  (2022, 8, 21, 1637)\n",
       "320  Blitz  (2022, 8, 22, 1631)\n",
       "321  Blitz  (2022, 8, 23, 1643)\n",
       "322  Blitz  (2022, 8, 24, 1637)\n",
       "323  Blitz  (2022, 8, 25, 1620)\n",
       "\n",
       "[324 rows x 2 columns]"
      ]
     },
     "execution_count": 82,
     "metadata": {},
     "output_type": "execute_result"
    }
   ],
   "source": [
    "me = client.users.get_rating_history('Brechner')\n",
    "df = pd.DataFrame(me[1])\n",
    "df.head(-5)"
   ]
  },
  {
   "cell_type": "code",
   "execution_count": 87,
   "id": "6c64eab1",
   "metadata": {},
   "outputs": [
    {
     "data": {
      "text/html": [
       "<div>\n",
       "<style scoped>\n",
       "    .dataframe tbody tr th:only-of-type {\n",
       "        vertical-align: middle;\n",
       "    }\n",
       "\n",
       "    .dataframe tbody tr th {\n",
       "        vertical-align: top;\n",
       "    }\n",
       "\n",
       "    .dataframe thead th {\n",
       "        text-align: right;\n",
       "    }\n",
       "</style>\n",
       "<table border=\"1\" class=\"dataframe\">\n",
       "  <thead>\n",
       "    <tr style=\"text-align: right;\">\n",
       "      <th></th>\n",
       "      <th>name</th>\n",
       "      <th>points</th>\n",
       "    </tr>\n",
       "  </thead>\n",
       "  <tbody>\n",
       "  </tbody>\n",
       "</table>\n",
       "</div>"
      ],
      "text/plain": [
       "Empty DataFrame\n",
       "Columns: [name, points]\n",
       "Index: []"
      ]
     },
     "execution_count": 87,
     "metadata": {},
     "output_type": "execute_result"
    }
   ],
   "source": [
    "df.loc['name': 'points']"
   ]
  },
  {
   "cell_type": "code",
   "execution_count": null,
   "id": "2dbe0146",
   "metadata": {},
   "outputs": [],
   "source": []
  }
 ],
 "metadata": {
  "kernelspec": {
   "display_name": "Python 3 (ipykernel)",
   "language": "python",
   "name": "python3"
  },
  "language_info": {
   "codemirror_mode": {
    "name": "ipython",
    "version": 3
   },
   "file_extension": ".py",
   "mimetype": "text/x-python",
   "name": "python",
   "nbconvert_exporter": "python",
   "pygments_lexer": "ipython3",
   "version": "3.9.12"
  }
 },
 "nbformat": 4,
 "nbformat_minor": 5
}
