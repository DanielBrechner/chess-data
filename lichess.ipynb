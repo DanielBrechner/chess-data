{
 "cells": [
  {
   "cell_type": "code",
   "execution_count": 4,
   "id": "997effac",
   "metadata": {},
   "outputs": [
    {
     "name": "stdout",
     "output_type": "stream",
     "text": [
      "Collecting berserk\n",
      "  Using cached berserk-0.10.0-py2.py3-none-any.whl (21 kB)\n",
      "Collecting requests~=2.20\n",
      "  Using cached requests-2.28.1-py3-none-any.whl (62 kB)\n",
      "Collecting deprecated~=1.2.7\n",
      "  Using cached Deprecated-1.2.13-py2.py3-none-any.whl (9.6 kB)\n",
      "Collecting ndjson~=0.2\n",
      "  Using cached ndjson-0.3.1-py2.py3-none-any.whl (5.3 kB)\n",
      "Collecting wrapt<2,>=1.10\n",
      "  Using cached wrapt-1.14.1-cp310-cp310-macosx_11_0_arm64.whl (35 kB)\n",
      "Collecting urllib3<1.27,>=1.21.1\n",
      "  Using cached urllib3-1.26.12-py2.py3-none-any.whl (140 kB)\n",
      "Collecting certifi>=2017.4.17\n",
      "  Using cached certifi-2022.9.24-py3-none-any.whl (161 kB)\n",
      "Collecting idna<4,>=2.5\n",
      "  Using cached idna-3.4-py3-none-any.whl (61 kB)\n",
      "Collecting charset-normalizer<3,>=2\n",
      "  Using cached charset_normalizer-2.1.1-py3-none-any.whl (39 kB)\n",
      "Installing collected packages: ndjson, wrapt, urllib3, idna, charset-normalizer, certifi, requests, deprecated, berserk\n",
      "Successfully installed berserk-0.10.0 certifi-2022.9.24 charset-normalizer-2.1.1 deprecated-1.2.13 idna-3.4 ndjson-0.3.1 requests-2.28.1 urllib3-1.26.12 wrapt-1.14.1\n",
      "--- Logging error ---\n",
      "Traceback (most recent call last):\n",
      "  File \"/Library/Frameworks/Python.framework/Versions/3.10/lib/python3.10/site-packages/pip/_internal/utils/logging.py\", line 177, in emit\n",
      "    self.console.print(renderable, overflow=\"ignore\", crop=False, style=style)\n",
      "  File \"/Library/Frameworks/Python.framework/Versions/3.10/lib/python3.10/site-packages/pip/_vendor/rich/console.py\", line 1673, in print\n",
      "    extend(render(renderable, render_options))\n",
      "  File \"/Library/Frameworks/Python.framework/Versions/3.10/lib/python3.10/site-packages/pip/_vendor/rich/console.py\", line 1305, in render\n",
      "    for render_output in iter_render:\n",
      "  File \"/Library/Frameworks/Python.framework/Versions/3.10/lib/python3.10/site-packages/pip/_internal/utils/logging.py\", line 134, in __rich_console__\n",
      "    for line in lines:\n",
      "  File \"/Library/Frameworks/Python.framework/Versions/3.10/lib/python3.10/site-packages/pip/_vendor/rich/segment.py\", line 249, in split_lines\n",
      "    for segment in segments:\n",
      "  File \"/Library/Frameworks/Python.framework/Versions/3.10/lib/python3.10/site-packages/pip/_vendor/rich/console.py\", line 1283, in render\n",
      "    renderable = rich_cast(renderable)\n",
      "  File \"/Library/Frameworks/Python.framework/Versions/3.10/lib/python3.10/site-packages/pip/_vendor/rich/protocol.py\", line 36, in rich_cast\n",
      "    renderable = cast_method()\n",
      "  File \"/Library/Frameworks/Python.framework/Versions/3.10/lib/python3.10/site-packages/pip/_internal/self_outdated_check.py\", line 130, in __rich__\n",
      "    pip_cmd = get_best_invocation_for_this_pip()\n",
      "  File \"/Library/Frameworks/Python.framework/Versions/3.10/lib/python3.10/site-packages/pip/_internal/utils/entrypoints.py\", line 58, in get_best_invocation_for_this_pip\n",
      "    if found_executable and os.path.samefile(\n",
      "  File \"/Library/Frameworks/Python.framework/Versions/3.10/lib/python3.10/genericpath.py\", line 101, in samefile\n",
      "    s2 = os.stat(f2)\n",
      "FileNotFoundError: [Errno 2] No such file or directory: '/Library/Frameworks/Python.framework/Versions/3.10/bin/pip'\n",
      "Call stack:\n",
      "  File \"/Library/Frameworks/Python.framework/Versions/3.10/lib/python3.10/runpy.py\", line 196, in _run_module_as_main\n",
      "    return _run_code(code, main_globals, None,\n",
      "  File \"/Library/Frameworks/Python.framework/Versions/3.10/lib/python3.10/runpy.py\", line 86, in _run_code\n",
      "    exec(code, run_globals)\n",
      "  File \"/Library/Frameworks/Python.framework/Versions/3.10/lib/python3.10/site-packages/pip/__main__.py\", line 31, in <module>\n",
      "    sys.exit(_main())\n",
      "  File \"/Library/Frameworks/Python.framework/Versions/3.10/lib/python3.10/site-packages/pip/_internal/cli/main.py\", line 70, in main\n",
      "    return command.main(cmd_args)\n",
      "  File \"/Library/Frameworks/Python.framework/Versions/3.10/lib/python3.10/site-packages/pip/_internal/cli/base_command.py\", line 101, in main\n",
      "    return self._main(args)\n",
      "  File \"/Library/Frameworks/Python.framework/Versions/3.10/lib/python3.10/site-packages/pip/_internal/cli/base_command.py\", line 223, in _main\n",
      "    self.handle_pip_version_check(options)\n",
      "  File \"/Library/Frameworks/Python.framework/Versions/3.10/lib/python3.10/site-packages/pip/_internal/cli/req_command.py\", line 190, in handle_pip_version_check\n",
      "    pip_self_version_check(session, options)\n",
      "  File \"/Library/Frameworks/Python.framework/Versions/3.10/lib/python3.10/site-packages/pip/_internal/self_outdated_check.py\", line 236, in pip_self_version_check\n",
      "    logger.warning(\"[present-rich] %s\", upgrade_prompt)\n",
      "  File \"/Library/Frameworks/Python.framework/Versions/3.10/lib/python3.10/logging/__init__.py\", line 1489, in warning\n",
      "    self._log(WARNING, msg, args, **kwargs)\n",
      "  File \"/Library/Frameworks/Python.framework/Versions/3.10/lib/python3.10/logging/__init__.py\", line 1624, in _log\n",
      "    self.handle(record)\n",
      "  File \"/Library/Frameworks/Python.framework/Versions/3.10/lib/python3.10/logging/__init__.py\", line 1634, in handle\n",
      "    self.callHandlers(record)\n",
      "  File \"/Library/Frameworks/Python.framework/Versions/3.10/lib/python3.10/logging/__init__.py\", line 1696, in callHandlers\n",
      "    hdlr.handle(record)\n",
      "  File \"/Library/Frameworks/Python.framework/Versions/3.10/lib/python3.10/logging/__init__.py\", line 968, in handle\n",
      "    self.emit(record)\n",
      "  File \"/Library/Frameworks/Python.framework/Versions/3.10/lib/python3.10/site-packages/pip/_internal/utils/logging.py\", line 179, in emit\n",
      "    self.handleError(record)\n",
      "Message: '[present-rich] %s'\n",
      "Arguments: (UpgradePrompt(old='22.2.1', new='22.2.2'),)\n",
      "Note: you may need to restart the kernel to use updated packages.\n"
     ]
    }
   ],
   "source": [
    "pip install berserk"
   ]
  },
  {
   "cell_type": "code",
   "execution_count": 3,
   "id": "71f3fd7f",
   "metadata": {},
   "outputs": [
    {
     "ename": "ModuleNotFoundError",
     "evalue": "No module named 'berserk'",
     "output_type": "error",
     "traceback": [
      "\u001b[0;31m---------------------------------------------------------------------------\u001b[0m",
      "\u001b[0;31mModuleNotFoundError\u001b[0m                       Traceback (most recent call last)",
      "Cell \u001b[0;32mIn [3], line 1\u001b[0m\n\u001b[0;32m----> 1\u001b[0m \u001b[38;5;28;01mimport\u001b[39;00m \u001b[38;5;21;01mberserk\u001b[39;00m\n\u001b[1;32m      2\u001b[0m \u001b[38;5;28;01mimport\u001b[39;00m \u001b[38;5;21;01mmatplotlib\u001b[39;00m\u001b[38;5;21;01m.\u001b[39;00m\u001b[38;5;21;01mpyplot\u001b[39;00m \u001b[38;5;28;01mas\u001b[39;00m \u001b[38;5;21;01mplt\u001b[39;00m\n\u001b[1;32m      3\u001b[0m \u001b[38;5;28;01mimport\u001b[39;00m \u001b[38;5;21;01mnumpy\u001b[39;00m \u001b[38;5;28;01mas\u001b[39;00m \u001b[38;5;21;01mnp\u001b[39;00m\n",
      "\u001b[0;31mModuleNotFoundError\u001b[0m: No module named 'berserk'"
     ]
    }
   ],
   "source": [
    "import berserk\n",
    "import matplotlib.pyplot as plt\n",
    "import numpy as np\n",
    "import pandas as pd"
   ]
  },
  {
   "cell_type": "code",
   "execution_count": null,
   "id": "835cf94f",
   "metadata": {},
   "outputs": [],
   "source": [
    "f = open(\"lichess.txt\", \"r\")\n",
    "token = (f.read())\n",
    "token = token.strip()\n",
    "session = berserk.TokenSession(token)\n",
    "client = berserk.Client (session=session)"
   ]
  },
  {
   "cell_type": "code",
   "execution_count": null,
   "id": "1de2f6d1",
   "metadata": {},
   "outputs": [
    {
     "data": {
      "text/plain": [
       "{'id': 'brechner',\n",
       " 'username': 'Brechner',\n",
       " 'perfs': {'blitz': {'games': 1491, 'rating': 1605, 'rd': 45, 'prog': -30},\n",
       "  'puzzle': {'games': 3, 'rating': 1647, 'rd': 308, 'prog': 0, 'prov': True},\n",
       "  'bullet': {'games': 9, 'rating': 1223, 'rd': 152, 'prog': 0, 'prov': True},\n",
       "  'correspondence': {'games': 0,\n",
       "   'rating': 1500,\n",
       "   'rd': 500,\n",
       "   'prog': 0,\n",
       "   'prov': True},\n",
       "  'classical': {'games': 0,\n",
       "   'rating': 1500,\n",
       "   'rd': 500,\n",
       "   'prog': 0,\n",
       "   'prov': True},\n",
       "  'rapid': {'games': 0, 'rating': 1500, 'rd': 500, 'prog': 0, 'prov': True}},\n",
       " 'createdAt': datetime.datetime(2019, 1, 20, 11, 46, 42, 448000, tzinfo=datetime.timezone.utc),\n",
       " 'online': False,\n",
       " 'seenAt': datetime.datetime(2022, 10, 6, 15, 57, 39, 794000, tzinfo=datetime.timezone.utc),\n",
       " 'playTime': {'total': 332264, 'tv': 0},\n",
       " 'url': 'https://lichess.org/@/Brechner',\n",
       " 'count': {'all': 1501,\n",
       "  'rated': 1500,\n",
       "  'ai': 0,\n",
       "  'draw': 67,\n",
       "  'drawH': 67,\n",
       "  'loss': 721,\n",
       "  'lossH': 721,\n",
       "  'win': 713,\n",
       "  'winH': 713,\n",
       "  'bookmark': 0,\n",
       "  'playing': 0,\n",
       "  'import': 0,\n",
       "  'me': 0},\n",
       " 'followable': True,\n",
       " 'following': False,\n",
       " 'blocking': False,\n",
       " 'followsYou': False}"
      ]
     },
     "execution_count": 53,
     "metadata": {},
     "output_type": "execute_result"
    }
   ],
   "source": [
    "client.account.get()"
   ]
  },
  {
   "cell_type": "code",
   "execution_count": null,
   "id": "50b48d0a",
   "metadata": {},
   "outputs": [],
   "source": [
    "me = client.users.get_rating_history('Brechner')"
   ]
  },
  {
   "cell_type": "code",
   "execution_count": null,
   "id": "42103bc7",
   "metadata": {},
   "outputs": [
    {
     "name": "stdout",
     "output_type": "stream",
     "text": [
      "{'name': 'Blitz', 'points': [Entry(year=2021, month=6, day=28, rating=1210), Entry(year=2021, month=6, day=29, rating=1454), Entry(year=2021, month=6, day=30, rating=1572), Entry(year=2021, month=6, day=31, rating=1556), Entry(year=2021, month=7, day=1, rating=1614), Entry(year=2021, month=7, day=2, rating=1613), Entry(year=2021, month=7, day=3, rating=1627), Entry(year=2021, month=7, day=4, rating=1649), Entry(year=2021, month=7, day=6, rating=1692), Entry(year=2021, month=7, day=7, rating=1683), Entry(year=2021, month=7, day=14, rating=1661), Entry(year=2021, month=7, day=15, rating=1660), Entry(year=2021, month=7, day=16, rating=1620), Entry(year=2021, month=7, day=17, rating=1640), Entry(year=2021, month=7, day=18, rating=1638), Entry(year=2021, month=7, day=19, rating=1659), Entry(year=2021, month=7, day=20, rating=1608), Entry(year=2021, month=7, day=21, rating=1611), Entry(year=2021, month=7, day=22, rating=1634), Entry(year=2021, month=7, day=23, rating=1629), Entry(year=2021, month=7, day=24, rating=1635), Entry(year=2021, month=7, day=25, rating=1631), Entry(year=2021, month=7, day=26, rating=1628), Entry(year=2021, month=7, day=27, rating=1612), Entry(year=2021, month=7, day=28, rating=1602), Entry(year=2021, month=7, day=29, rating=1607), Entry(year=2021, month=7, day=30, rating=1613), Entry(year=2021, month=7, day=31, rating=1601), Entry(year=2021, month=8, day=1, rating=1591), Entry(year=2021, month=8, day=2, rating=1592), Entry(year=2021, month=8, day=3, rating=1596), Entry(year=2021, month=8, day=4, rating=1595), Entry(year=2021, month=8, day=5, rating=1606), Entry(year=2021, month=8, day=7, rating=1636), Entry(year=2021, month=8, day=8, rating=1618), Entry(year=2021, month=8, day=9, rating=1606), Entry(year=2021, month=8, day=10, rating=1590), Entry(year=2021, month=8, day=11, rating=1595), Entry(year=2021, month=8, day=12, rating=1596), Entry(year=2021, month=8, day=13, rating=1590), Entry(year=2021, month=8, day=14, rating=1595), Entry(year=2021, month=8, day=15, rating=1600), Entry(year=2021, month=8, day=16, rating=1596), Entry(year=2021, month=8, day=17, rating=1607), Entry(year=2021, month=8, day=18, rating=1605), Entry(year=2021, month=8, day=19, rating=1598), Entry(year=2021, month=8, day=20, rating=1596), Entry(year=2021, month=8, day=21, rating=1607), Entry(year=2021, month=8, day=22, rating=1602), Entry(year=2021, month=8, day=23, rating=1598), Entry(year=2021, month=8, day=24, rating=1607), Entry(year=2021, month=8, day=25, rating=1590), Entry(year=2021, month=8, day=26, rating=1585), Entry(year=2021, month=8, day=27, rating=1576), Entry(year=2021, month=8, day=28, rating=1572), Entry(year=2021, month=8, day=29, rating=1582), Entry(year=2021, month=8, day=30, rating=1576), Entry(year=2021, month=9, day=1, rating=1571), Entry(year=2021, month=9, day=2, rating=1588), Entry(year=2021, month=9, day=3, rating=1607), Entry(year=2021, month=9, day=4, rating=1577), Entry(year=2021, month=9, day=5, rating=1583), Entry(year=2021, month=9, day=6, rating=1602), Entry(year=2021, month=9, day=7, rating=1607), Entry(year=2021, month=9, day=8, rating=1626), Entry(year=2021, month=9, day=9, rating=1632), Entry(year=2021, month=9, day=10, rating=1639), Entry(year=2021, month=9, day=11, rating=1639), Entry(year=2021, month=9, day=12, rating=1628), Entry(year=2021, month=9, day=13, rating=1636), Entry(year=2021, month=9, day=15, rating=1629), Entry(year=2021, month=9, day=16, rating=1629), Entry(year=2021, month=9, day=18, rating=1639), Entry(year=2021, month=9, day=19, rating=1645), Entry(year=2021, month=9, day=20, rating=1641), Entry(year=2021, month=9, day=21, rating=1635), Entry(year=2021, month=9, day=22, rating=1641), Entry(year=2021, month=9, day=23, rating=1639), Entry(year=2021, month=9, day=24, rating=1640), Entry(year=2021, month=9, day=25, rating=1621), Entry(year=2021, month=9, day=26, rating=1605), Entry(year=2021, month=9, day=28, rating=1589), Entry(year=2021, month=9, day=30, rating=1582), Entry(year=2021, month=9, day=31, rating=1598), Entry(year=2021, month=10, day=1, rating=1588), Entry(year=2021, month=10, day=2, rating=1571), Entry(year=2021, month=10, day=3, rating=1570), Entry(year=2021, month=10, day=4, rating=1547), Entry(year=2021, month=10, day=5, rating=1549), Entry(year=2021, month=10, day=6, rating=1561), Entry(year=2021, month=10, day=7, rating=1555), Entry(year=2021, month=10, day=8, rating=1561), Entry(year=2021, month=10, day=9, rating=1566), Entry(year=2021, month=10, day=10, rating=1566), Entry(year=2021, month=10, day=11, rating=1578), Entry(year=2021, month=10, day=14, rating=1578), Entry(year=2021, month=10, day=15, rating=1579), Entry(year=2021, month=10, day=16, rating=1591), Entry(year=2021, month=10, day=17, rating=1597), Entry(year=2021, month=10, day=18, rating=1603), Entry(year=2021, month=10, day=19, rating=1602), Entry(year=2021, month=10, day=20, rating=1609), Entry(year=2021, month=10, day=21, rating=1616), Entry(year=2021, month=10, day=22, rating=1628), Entry(year=2021, month=10, day=23, rating=1633), Entry(year=2021, month=10, day=24, rating=1634), Entry(year=2021, month=10, day=25, rating=1634), Entry(year=2021, month=10, day=26, rating=1629), Entry(year=2021, month=10, day=27, rating=1623), Entry(year=2021, month=10, day=28, rating=1617), Entry(year=2021, month=10, day=30, rating=1623), Entry(year=2021, month=11, day=2, rating=1628), Entry(year=2021, month=11, day=3, rating=1617), Entry(year=2021, month=11, day=4, rating=1635), Entry(year=2021, month=11, day=5, rating=1641), Entry(year=2021, month=11, day=6, rating=1635), Entry(year=2021, month=11, day=7, rating=1624), Entry(year=2021, month=11, day=10, rating=1626), Entry(year=2021, month=11, day=12, rating=1632), Entry(year=2021, month=11, day=13, rating=1626), Entry(year=2021, month=11, day=14, rating=1620), Entry(year=2021, month=11, day=17, rating=1608), Entry(year=2021, month=11, day=20, rating=1608), Entry(year=2021, month=11, day=21, rating=1602), Entry(year=2021, month=11, day=23, rating=1595), Entry(year=2021, month=11, day=24, rating=1599), Entry(year=2021, month=11, day=25, rating=1602), Entry(year=2021, month=11, day=26, rating=1597), Entry(year=2021, month=11, day=27, rating=1614), Entry(year=2021, month=11, day=28, rating=1620), Entry(year=2021, month=11, day=29, rating=1610), Entry(year=2021, month=11, day=30, rating=1604), Entry(year=2021, month=11, day=31, rating=1610), Entry(year=2022, month=0, day=2, rating=1608), Entry(year=2022, month=0, day=3, rating=1608), Entry(year=2022, month=0, day=4, rating=1626), Entry(year=2022, month=0, day=5, rating=1625), Entry(year=2022, month=0, day=6, rating=1648), Entry(year=2022, month=0, day=7, rating=1648), Entry(year=2022, month=0, day=8, rating=1630), Entry(year=2022, month=0, day=9, rating=1637), Entry(year=2022, month=0, day=10, rating=1638), Entry(year=2022, month=0, day=11, rating=1644), Entry(year=2022, month=0, day=12, rating=1650), Entry(year=2022, month=0, day=13, rating=1634), Entry(year=2022, month=0, day=14, rating=1628), Entry(year=2022, month=0, day=15, rating=1622), Entry(year=2022, month=0, day=16, rating=1616), Entry(year=2022, month=0, day=17, rating=1601), Entry(year=2022, month=0, day=18, rating=1600), Entry(year=2022, month=0, day=19, rating=1597), Entry(year=2022, month=0, day=21, rating=1602), Entry(year=2022, month=0, day=22, rating=1607), Entry(year=2022, month=0, day=23, rating=1612), Entry(year=2022, month=0, day=26, rating=1612), Entry(year=2022, month=0, day=27, rating=1596), Entry(year=2022, month=0, day=28, rating=1581), Entry(year=2022, month=0, day=29, rating=1591), Entry(year=2022, month=0, day=30, rating=1578), Entry(year=2022, month=1, day=1, rating=1572), Entry(year=2022, month=1, day=2, rating=1573), Entry(year=2022, month=1, day=3, rating=1592), Entry(year=2022, month=1, day=4, rating=1569), Entry(year=2022, month=1, day=5, rating=1587), Entry(year=2022, month=1, day=6, rating=1581), Entry(year=2022, month=1, day=7, rating=1582), Entry(year=2022, month=1, day=8, rating=1564), Entry(year=2022, month=1, day=9, rating=1564), Entry(year=2022, month=1, day=11, rating=1590), Entry(year=2022, month=1, day=12, rating=1614), Entry(year=2022, month=1, day=13, rating=1598), Entry(year=2022, month=1, day=14, rating=1605), Entry(year=2022, month=1, day=15, rating=1608), Entry(year=2022, month=1, day=16, rating=1613), Entry(year=2022, month=1, day=19, rating=1631), Entry(year=2022, month=1, day=21, rating=1647), Entry(year=2022, month=1, day=23, rating=1628), Entry(year=2022, month=1, day=24, rating=1640), Entry(year=2022, month=1, day=26, rating=1639), Entry(year=2022, month=1, day=27, rating=1639), Entry(year=2022, month=1, day=28, rating=1652), Entry(year=2022, month=2, day=1, rating=1695), Entry(year=2022, month=2, day=3, rating=1685), Entry(year=2022, month=2, day=5, rating=1679), Entry(year=2022, month=2, day=6, rating=1672), Entry(year=2022, month=2, day=7, rating=1666), Entry(year=2022, month=2, day=8, rating=1672), Entry(year=2022, month=2, day=10, rating=1677), Entry(year=2022, month=2, day=11, rating=1676), Entry(year=2022, month=2, day=12, rating=1680), Entry(year=2022, month=2, day=13, rating=1681), Entry(year=2022, month=2, day=14, rating=1688), Entry(year=2022, month=2, day=15, rating=1695), Entry(year=2022, month=2, day=16, rating=1700), Entry(year=2022, month=2, day=17, rating=1703), Entry(year=2022, month=2, day=18, rating=1709), Entry(year=2022, month=2, day=19, rating=1710), Entry(year=2022, month=2, day=20, rating=1680), Entry(year=2022, month=2, day=22, rating=1708), Entry(year=2022, month=2, day=23, rating=1692), Entry(year=2022, month=2, day=24, rating=1677), Entry(year=2022, month=2, day=25, rating=1678), Entry(year=2022, month=2, day=26, rating=1669), Entry(year=2022, month=2, day=28, rating=1643), Entry(year=2022, month=2, day=29, rating=1657), Entry(year=2022, month=2, day=30, rating=1646), Entry(year=2022, month=2, day=31, rating=1628), Entry(year=2022, month=3, day=1, rating=1626), Entry(year=2022, month=3, day=2, rating=1631), Entry(year=2022, month=3, day=3, rating=1644), Entry(year=2022, month=3, day=4, rating=1650), Entry(year=2022, month=3, day=5, rating=1628), Entry(year=2022, month=3, day=6, rating=1632), Entry(year=2022, month=3, day=7, rating=1638), Entry(year=2022, month=3, day=8, rating=1634), Entry(year=2022, month=3, day=9, rating=1619), Entry(year=2022, month=3, day=11, rating=1614), Entry(year=2022, month=3, day=12, rating=1605), Entry(year=2022, month=3, day=13, rating=1605), Entry(year=2022, month=3, day=14, rating=1600), Entry(year=2022, month=3, day=15, rating=1619), Entry(year=2022, month=3, day=17, rating=1621), Entry(year=2022, month=3, day=19, rating=1630), Entry(year=2022, month=3, day=21, rating=1623), Entry(year=2022, month=3, day=22, rating=1624), Entry(year=2022, month=3, day=23, rating=1634), Entry(year=2022, month=3, day=24, rating=1628), Entry(year=2022, month=3, day=25, rating=1628), Entry(year=2022, month=3, day=26, rating=1617), Entry(year=2022, month=3, day=27, rating=1615), Entry(year=2022, month=3, day=28, rating=1598), Entry(year=2022, month=3, day=29, rating=1627), Entry(year=2022, month=3, day=30, rating=1645), Entry(year=2022, month=4, day=1, rating=1653), Entry(year=2022, month=4, day=2, rating=1657), Entry(year=2022, month=4, day=3, rating=1633), Entry(year=2022, month=4, day=4, rating=1653), Entry(year=2022, month=4, day=5, rating=1652), Entry(year=2022, month=4, day=6, rating=1657), Entry(year=2022, month=4, day=7, rating=1650), Entry(year=2022, month=4, day=8, rating=1648), Entry(year=2022, month=4, day=9, rating=1656), Entry(year=2022, month=4, day=10, rating=1651), Entry(year=2022, month=4, day=11, rating=1652), Entry(year=2022, month=4, day=12, rating=1664), Entry(year=2022, month=4, day=13, rating=1670), Entry(year=2022, month=4, day=14, rating=1659), Entry(year=2022, month=4, day=15, rating=1674), Entry(year=2022, month=4, day=16, rating=1664), Entry(year=2022, month=4, day=17, rating=1674), Entry(year=2022, month=4, day=18, rating=1645), Entry(year=2022, month=4, day=19, rating=1657), Entry(year=2022, month=4, day=20, rating=1619), Entry(year=2022, month=4, day=21, rating=1605), Entry(year=2022, month=4, day=22, rating=1616), Entry(year=2022, month=4, day=23, rating=1622), Entry(year=2022, month=4, day=24, rating=1613), Entry(year=2022, month=4, day=25, rating=1610), Entry(year=2022, month=4, day=26, rating=1614), Entry(year=2022, month=4, day=27, rating=1613), Entry(year=2022, month=4, day=28, rating=1609), Entry(year=2022, month=4, day=29, rating=1590), Entry(year=2022, month=4, day=31, rating=1584), Entry(year=2022, month=5, day=1, rating=1597), Entry(year=2022, month=5, day=2, rating=1575), Entry(year=2022, month=5, day=8, rating=1554), Entry(year=2022, month=6, day=9, rating=1575), Entry(year=2022, month=6, day=10, rating=1584), Entry(year=2022, month=6, day=12, rating=1594), Entry(year=2022, month=6, day=16, rating=1603), Entry(year=2022, month=6, day=19, rating=1604), Entry(year=2022, month=6, day=21, rating=1613), Entry(year=2022, month=6, day=23, rating=1613), Entry(year=2022, month=6, day=28, rating=1601), Entry(year=2022, month=6, day=29, rating=1632), Entry(year=2022, month=6, day=30, rating=1640), Entry(year=2022, month=6, day=31, rating=1646), Entry(year=2022, month=7, day=1, rating=1661), Entry(year=2022, month=7, day=3, rating=1655), Entry(year=2022, month=7, day=4, rating=1660), Entry(year=2022, month=7, day=5, rating=1643), Entry(year=2022, month=7, day=7, rating=1637), Entry(year=2022, month=7, day=8, rating=1649), Entry(year=2022, month=7, day=9, rating=1673), Entry(year=2022, month=7, day=10, rating=1665), Entry(year=2022, month=7, day=11, rating=1653), Entry(year=2022, month=7, day=12, rating=1652), Entry(year=2022, month=7, day=13, rating=1649), Entry(year=2022, month=7, day=15, rating=1670), Entry(year=2022, month=7, day=16, rating=1675), Entry(year=2022, month=7, day=17, rating=1681), Entry(year=2022, month=7, day=18, rating=1700), Entry(year=2022, month=7, day=19, rating=1707), Entry(year=2022, month=7, day=20, rating=1684), Entry(year=2022, month=7, day=21, rating=1685), Entry(year=2022, month=7, day=22, rating=1685), Entry(year=2022, month=7, day=23, rating=1704), Entry(year=2022, month=7, day=24, rating=1691), Entry(year=2022, month=7, day=26, rating=1691), Entry(year=2022, month=7, day=28, rating=1685), Entry(year=2022, month=7, day=29, rating=1685), Entry(year=2022, month=7, day=30, rating=1680), Entry(year=2022, month=7, day=31, rating=1671), Entry(year=2022, month=8, day=2, rating=1677), Entry(year=2022, month=8, day=4, rating=1671), Entry(year=2022, month=8, day=5, rating=1647), Entry(year=2022, month=8, day=6, rating=1642), Entry(year=2022, month=8, day=7, rating=1647), Entry(year=2022, month=8, day=8, rating=1654), Entry(year=2022, month=8, day=9, rating=1642), Entry(year=2022, month=8, day=10, rating=1643), Entry(year=2022, month=8, day=11, rating=1643), Entry(year=2022, month=8, day=12, rating=1633), Entry(year=2022, month=8, day=13, rating=1623), Entry(year=2022, month=8, day=15, rating=1619), Entry(year=2022, month=8, day=16, rating=1625), Entry(year=2022, month=8, day=17, rating=1614), Entry(year=2022, month=8, day=18, rating=1623), Entry(year=2022, month=8, day=20, rating=1611), Entry(year=2022, month=8, day=21, rating=1637), Entry(year=2022, month=8, day=22, rating=1631), Entry(year=2022, month=8, day=23, rating=1643), Entry(year=2022, month=8, day=24, rating=1637), Entry(year=2022, month=8, day=25, rating=1620), Entry(year=2022, month=8, day=26, rating=1625), Entry(year=2022, month=8, day=28, rating=1608), Entry(year=2022, month=8, day=29, rating=1618), Entry(year=2022, month=8, day=30, rating=1624), Entry(year=2022, month=9, day=1, rating=1623), Entry(year=2022, month=9, day=2, rating=1616), Entry(year=2022, month=9, day=4, rating=1612), Entry(year=2022, month=9, day=6, rating=1605)]}\n"
     ]
    }
   ],
   "source": [
    "print(me[1])"
   ]
  },
  {
   "cell_type": "code",
   "execution_count": null,
   "id": "c802d620",
   "metadata": {},
   "outputs": [],
   "source": [
    "import pandas as pd"
   ]
  },
  {
   "cell_type": "code",
   "execution_count": null,
   "id": "736fa483",
   "metadata": {},
   "outputs": [
    {
     "data": {
      "text/html": [
       "<div>\n",
       "<style scoped>\n",
       "    .dataframe tbody tr th:only-of-type {\n",
       "        vertical-align: middle;\n",
       "    }\n",
       "\n",
       "    .dataframe tbody tr th {\n",
       "        vertical-align: top;\n",
       "    }\n",
       "\n",
       "    .dataframe thead th {\n",
       "        text-align: right;\n",
       "    }\n",
       "</style>\n",
       "<table border=\"1\" class=\"dataframe\">\n",
       "  <thead>\n",
       "    <tr style=\"text-align: right;\">\n",
       "      <th></th>\n",
       "      <th>name</th>\n",
       "      <th>points</th>\n",
       "    </tr>\n",
       "  </thead>\n",
       "  <tbody>\n",
       "    <tr>\n",
       "      <th>0</th>\n",
       "      <td>Blitz</td>\n",
       "      <td>(2021, 6, 28, 1210)</td>\n",
       "    </tr>\n",
       "    <tr>\n",
       "      <th>1</th>\n",
       "      <td>Blitz</td>\n",
       "      <td>(2021, 6, 29, 1454)</td>\n",
       "    </tr>\n",
       "    <tr>\n",
       "      <th>2</th>\n",
       "      <td>Blitz</td>\n",
       "      <td>(2021, 6, 30, 1572)</td>\n",
       "    </tr>\n",
       "    <tr>\n",
       "      <th>3</th>\n",
       "      <td>Blitz</td>\n",
       "      <td>(2021, 6, 31, 1556)</td>\n",
       "    </tr>\n",
       "    <tr>\n",
       "      <th>4</th>\n",
       "      <td>Blitz</td>\n",
       "      <td>(2021, 7, 1, 1614)</td>\n",
       "    </tr>\n",
       "    <tr>\n",
       "      <th>...</th>\n",
       "      <td>...</td>\n",
       "      <td>...</td>\n",
       "    </tr>\n",
       "    <tr>\n",
       "      <th>322</th>\n",
       "      <td>Blitz</td>\n",
       "      <td>(2022, 8, 24, 1637)</td>\n",
       "    </tr>\n",
       "    <tr>\n",
       "      <th>323</th>\n",
       "      <td>Blitz</td>\n",
       "      <td>(2022, 8, 25, 1620)</td>\n",
       "    </tr>\n",
       "    <tr>\n",
       "      <th>324</th>\n",
       "      <td>Blitz</td>\n",
       "      <td>(2022, 8, 26, 1625)</td>\n",
       "    </tr>\n",
       "    <tr>\n",
       "      <th>325</th>\n",
       "      <td>Blitz</td>\n",
       "      <td>(2022, 8, 28, 1608)</td>\n",
       "    </tr>\n",
       "    <tr>\n",
       "      <th>326</th>\n",
       "      <td>Blitz</td>\n",
       "      <td>(2022, 8, 29, 1618)</td>\n",
       "    </tr>\n",
       "  </tbody>\n",
       "</table>\n",
       "<p>327 rows × 2 columns</p>\n",
       "</div>"
      ],
      "text/plain": [
       "      name               points\n",
       "0    Blitz  (2021, 6, 28, 1210)\n",
       "1    Blitz  (2021, 6, 29, 1454)\n",
       "2    Blitz  (2021, 6, 30, 1572)\n",
       "3    Blitz  (2021, 6, 31, 1556)\n",
       "4    Blitz   (2021, 7, 1, 1614)\n",
       "..     ...                  ...\n",
       "322  Blitz  (2022, 8, 24, 1637)\n",
       "323  Blitz  (2022, 8, 25, 1620)\n",
       "324  Blitz  (2022, 8, 26, 1625)\n",
       "325  Blitz  (2022, 8, 28, 1608)\n",
       "326  Blitz  (2022, 8, 29, 1618)\n",
       "\n",
       "[327 rows x 2 columns]"
      ]
     },
     "execution_count": 60,
     "metadata": {},
     "output_type": "execute_result"
    }
   ],
   "source": [
    "me = client.users.get_rating_history('Brechner')\n",
    "df = pd.DataFrame(me[1])\n",
    "df.head(-5)"
   ]
  },
  {
   "cell_type": "code",
   "execution_count": null,
   "id": "6c64eab1",
   "metadata": {},
   "outputs": [
    {
     "data": {
      "text/html": [
       "<div>\n",
       "<style scoped>\n",
       "    .dataframe tbody tr th:only-of-type {\n",
       "        vertical-align: middle;\n",
       "    }\n",
       "\n",
       "    .dataframe tbody tr th {\n",
       "        vertical-align: top;\n",
       "    }\n",
       "\n",
       "    .dataframe thead th {\n",
       "        text-align: right;\n",
       "    }\n",
       "</style>\n",
       "<table border=\"1\" class=\"dataframe\">\n",
       "  <thead>\n",
       "    <tr style=\"text-align: right;\">\n",
       "      <th></th>\n",
       "      <th>points</th>\n",
       "    </tr>\n",
       "  </thead>\n",
       "  <tbody>\n",
       "    <tr>\n",
       "      <th>0</th>\n",
       "      <td>(2021, 6, 28, 1210)</td>\n",
       "    </tr>\n",
       "    <tr>\n",
       "      <th>1</th>\n",
       "      <td>(2021, 6, 29, 1454)</td>\n",
       "    </tr>\n",
       "    <tr>\n",
       "      <th>2</th>\n",
       "      <td>(2021, 6, 30, 1572)</td>\n",
       "    </tr>\n",
       "    <tr>\n",
       "      <th>3</th>\n",
       "      <td>(2021, 6, 31, 1556)</td>\n",
       "    </tr>\n",
       "    <tr>\n",
       "      <th>4</th>\n",
       "      <td>(2021, 7, 1, 1614)</td>\n",
       "    </tr>\n",
       "    <tr>\n",
       "      <th>...</th>\n",
       "      <td>...</td>\n",
       "    </tr>\n",
       "    <tr>\n",
       "      <th>327</th>\n",
       "      <td>(2022, 8, 30, 1624)</td>\n",
       "    </tr>\n",
       "    <tr>\n",
       "      <th>328</th>\n",
       "      <td>(2022, 9, 1, 1623)</td>\n",
       "    </tr>\n",
       "    <tr>\n",
       "      <th>329</th>\n",
       "      <td>(2022, 9, 2, 1616)</td>\n",
       "    </tr>\n",
       "    <tr>\n",
       "      <th>330</th>\n",
       "      <td>(2022, 9, 4, 1612)</td>\n",
       "    </tr>\n",
       "    <tr>\n",
       "      <th>331</th>\n",
       "      <td>(2022, 9, 6, 1605)</td>\n",
       "    </tr>\n",
       "  </tbody>\n",
       "</table>\n",
       "<p>332 rows × 1 columns</p>\n",
       "</div>"
      ],
      "text/plain": [
       "                  points\n",
       "0    (2021, 6, 28, 1210)\n",
       "1    (2021, 6, 29, 1454)\n",
       "2    (2021, 6, 30, 1572)\n",
       "3    (2021, 6, 31, 1556)\n",
       "4     (2021, 7, 1, 1614)\n",
       "..                   ...\n",
       "327  (2022, 8, 30, 1624)\n",
       "328   (2022, 9, 1, 1623)\n",
       "329   (2022, 9, 2, 1616)\n",
       "330   (2022, 9, 4, 1612)\n",
       "331   (2022, 9, 6, 1605)\n",
       "\n",
       "[332 rows x 1 columns]"
      ]
     },
     "execution_count": 65,
     "metadata": {},
     "output_type": "execute_result"
    }
   ],
   "source": [
    "df.get([\"points\"])\n"
   ]
  },
  {
   "cell_type": "code",
   "execution_count": null,
   "id": "29a799d9",
   "metadata": {},
   "outputs": [],
   "source": [
    "df_new = pd.DataFrame(df['points'].to_list(),columns=['year','month','day','rating'])\n"
   ]
  },
  {
   "cell_type": "code",
   "execution_count": null,
   "id": "74a1c4ff",
   "metadata": {},
   "outputs": [
    {
     "name": "stdout",
     "output_type": "stream",
     "text": [
      "     year  month  day  rating\n",
      "0    2021      6   28    1210\n",
      "1    2021      6   29    1454\n",
      "2    2021      6   30    1572\n",
      "3    2021      6   31    1556\n",
      "4    2021      7    1    1614\n",
      "..    ...    ...  ...     ...\n",
      "327  2022      8   30    1624\n",
      "328  2022      9    1    1623\n",
      "329  2022      9    2    1616\n",
      "330  2022      9    4    1612\n",
      "331  2022      9    6    1605\n",
      "\n",
      "[332 rows x 4 columns]\n"
     ]
    }
   ],
   "source": [
    "print(df_new)"
   ]
  },
  {
   "cell_type": "code",
   "execution_count": null,
   "id": "a7c1dda9",
   "metadata": {
    "scrolled": true
   },
   "outputs": [
    {
     "data": {
      "image/png": "[encoded data removed]",
      "text/plain": [
       "<Figure size 432x288 with 1 Axes>"
      ]
     },
     "metadata": {
      "needs_background": "light"
     },
     "output_type": "display_data"
    }
   ],
   "source": [
    "\n",
    "df_new = pd.DataFrame(df['points'].to_list(),columns=['year','month','day','rating'])\n",
    "\n",
    "df_new.plot(kind = 'scatter', x = 'month', y = 'rating')\n",
    "\n",
    "plt.show()"
   ]
  },
  {
   "cell_type": "code",
   "execution_count": null,
   "id": "ae7e3d78",
   "metadata": {},
   "outputs": [
    {
     "data": {
      "text/html": [
       "<div>\n",
       "<style scoped>\n",
       "    .dataframe tbody tr th:only-of-type {\n",
       "        vertical-align: middle;\n",
       "    }\n",
       "\n",
       "    .dataframe tbody tr th {\n",
       "        vertical-align: top;\n",
       "    }\n",
       "\n",
       "    .dataframe thead th {\n",
       "        text-align: right;\n",
       "    }\n",
       "</style>\n",
       "<table border=\"1\" class=\"dataframe\">\n",
       "  <thead>\n",
       "    <tr style=\"text-align: right;\">\n",
       "      <th></th>\n",
       "      <th>year</th>\n",
       "      <th>month</th>\n",
       "      <th>day</th>\n",
       "      <th>rating</th>\n",
       "    </tr>\n",
       "  </thead>\n",
       "  <tbody>\n",
       "    <tr>\n",
       "      <th>0</th>\n",
       "      <td>2021</td>\n",
       "      <td>6</td>\n",
       "      <td>28</td>\n",
       "      <td>1210</td>\n",
       "    </tr>\n",
       "    <tr>\n",
       "      <th>1</th>\n",
       "      <td>2021</td>\n",
       "      <td>6</td>\n",
       "      <td>29</td>\n",
       "      <td>1454</td>\n",
       "    </tr>\n",
       "    <tr>\n",
       "      <th>87</th>\n",
       "      <td>2021</td>\n",
       "      <td>10</td>\n",
       "      <td>4</td>\n",
       "      <td>1547</td>\n",
       "    </tr>\n",
       "    <tr>\n",
       "      <th>88</th>\n",
       "      <td>2021</td>\n",
       "      <td>10</td>\n",
       "      <td>5</td>\n",
       "      <td>1549</td>\n",
       "    </tr>\n",
       "    <tr>\n",
       "      <th>265</th>\n",
       "      <td>2022</td>\n",
       "      <td>5</td>\n",
       "      <td>8</td>\n",
       "      <td>1554</td>\n",
       "    </tr>\n",
       "    <tr>\n",
       "      <th>...</th>\n",
       "      <td>...</td>\n",
       "      <td>...</td>\n",
       "      <td>...</td>\n",
       "      <td>...</td>\n",
       "    </tr>\n",
       "    <tr>\n",
       "      <th>296</th>\n",
       "      <td>2022</td>\n",
       "      <td>7</td>\n",
       "      <td>23</td>\n",
       "      <td>1704</td>\n",
       "    </tr>\n",
       "    <tr>\n",
       "      <th>292</th>\n",
       "      <td>2022</td>\n",
       "      <td>7</td>\n",
       "      <td>19</td>\n",
       "      <td>1707</td>\n",
       "    </tr>\n",
       "    <tr>\n",
       "      <th>198</th>\n",
       "      <td>2022</td>\n",
       "      <td>2</td>\n",
       "      <td>22</td>\n",
       "      <td>1708</td>\n",
       "    </tr>\n",
       "    <tr>\n",
       "      <th>195</th>\n",
       "      <td>2022</td>\n",
       "      <td>2</td>\n",
       "      <td>18</td>\n",
       "      <td>1709</td>\n",
       "    </tr>\n",
       "    <tr>\n",
       "      <th>196</th>\n",
       "      <td>2022</td>\n",
       "      <td>2</td>\n",
       "      <td>19</td>\n",
       "      <td>1710</td>\n",
       "    </tr>\n",
       "  </tbody>\n",
       "</table>\n",
       "<p>332 rows × 4 columns</p>\n",
       "</div>"
      ],
      "text/plain": [
       "     year  month  day  rating\n",
       "0    2021      6   28    1210\n",
       "1    2021      6   29    1454\n",
       "87   2021     10    4    1547\n",
       "88   2021     10    5    1549\n",
       "265  2022      5    8    1554\n",
       "..    ...    ...  ...     ...\n",
       "296  2022      7   23    1704\n",
       "292  2022      7   19    1707\n",
       "198  2022      2   22    1708\n",
       "195  2022      2   18    1709\n",
       "196  2022      2   19    1710\n",
       "\n",
       "[332 rows x 4 columns]"
      ]
     },
     "execution_count": 138,
     "metadata": {},
     "output_type": "execute_result"
    }
   ],
   "source": [
    "df_new1 = df_new.sort_values(by = 'rating')\n",
    "df_new1"
   ]
  },
  {
   "cell_type": "code",
   "execution_count": null,
   "id": "7d25700d",
   "metadata": {},
   "outputs": [
    {
     "data": {
      "text/html": [
       "<div>\n",
       "<style scoped>\n",
       "    .dataframe tbody tr th:only-of-type {\n",
       "        vertical-align: middle;\n",
       "    }\n",
       "\n",
       "    .dataframe tbody tr th {\n",
       "        vertical-align: top;\n",
       "    }\n",
       "\n",
       "    .dataframe thead th {\n",
       "        text-align: right;\n",
       "    }\n",
       "</style>\n",
       "<table border=\"1\" class=\"dataframe\">\n",
       "  <thead>\n",
       "    <tr style=\"text-align: right;\">\n",
       "      <th></th>\n",
       "      <th>year</th>\n",
       "      <th>month</th>\n",
       "      <th>day</th>\n",
       "      <th>rating</th>\n",
       "    </tr>\n",
       "  </thead>\n",
       "  <tbody>\n",
       "    <tr>\n",
       "      <th>count</th>\n",
       "      <td>332.000000</td>\n",
       "      <td>332.000000</td>\n",
       "      <td>332.000000</td>\n",
       "      <td>332.000000</td>\n",
       "    </tr>\n",
       "    <tr>\n",
       "      <th>mean</th>\n",
       "      <td>2021.599398</td>\n",
       "      <td>5.873494</td>\n",
       "      <td>15.861446</td>\n",
       "      <td>1623.849398</td>\n",
       "    </tr>\n",
       "    <tr>\n",
       "      <th>std</th>\n",
       "      <td>0.490760</td>\n",
       "      <td>3.379647</td>\n",
       "      <td>9.055323</td>\n",
       "      <td>41.622475</td>\n",
       "    </tr>\n",
       "    <tr>\n",
       "      <th>min</th>\n",
       "      <td>2021.000000</td>\n",
       "      <td>0.000000</td>\n",
       "      <td>1.000000</td>\n",
       "      <td>1210.000000</td>\n",
       "    </tr>\n",
       "    <tr>\n",
       "      <th>25%</th>\n",
       "      <td>2021.000000</td>\n",
       "      <td>3.000000</td>\n",
       "      <td>8.000000</td>\n",
       "      <td>1602.000000</td>\n",
       "    </tr>\n",
       "    <tr>\n",
       "      <th>50%</th>\n",
       "      <td>2022.000000</td>\n",
       "      <td>7.000000</td>\n",
       "      <td>16.000000</td>\n",
       "      <td>1624.000000</td>\n",
       "    </tr>\n",
       "    <tr>\n",
       "      <th>75%</th>\n",
       "      <td>2022.000000</td>\n",
       "      <td>8.000000</td>\n",
       "      <td>24.000000</td>\n",
       "      <td>1645.250000</td>\n",
       "    </tr>\n",
       "    <tr>\n",
       "      <th>max</th>\n",
       "      <td>2022.000000</td>\n",
       "      <td>11.000000</td>\n",
       "      <td>31.000000</td>\n",
       "      <td>1710.000000</td>\n",
       "    </tr>\n",
       "  </tbody>\n",
       "</table>\n",
       "</div>"
      ],
      "text/plain": [
       "              year       month         day       rating\n",
       "count   332.000000  332.000000  332.000000   332.000000\n",
       "mean   2021.599398    5.873494   15.861446  1623.849398\n",
       "std       0.490760    3.379647    9.055323    41.622475\n",
       "min    2021.000000    0.000000    1.000000  1210.000000\n",
       "25%    2021.000000    3.000000    8.000000  1602.000000\n",
       "50%    2022.000000    7.000000   16.000000  1624.000000\n",
       "75%    2022.000000    8.000000   24.000000  1645.250000\n",
       "max    2022.000000   11.000000   31.000000  1710.000000"
      ]
     },
     "execution_count": 139,
     "metadata": {},
     "output_type": "execute_result"
    }
   ],
   "source": [
    "df_new.describe()"
   ]
  },
  {
   "cell_type": "code",
   "execution_count": null,
   "id": "6be8f3d6",
   "metadata": {},
   "outputs": [
    {
     "data": {
      "text/plain": [
       "array([[2021,    6,   28, 1210],\n",
       "       [2021,    6,   29, 1454],\n",
       "       [2021,    6,   30, 1572],\n",
       "       ...,\n",
       "       [2022,    9,    2, 1616],\n",
       "       [2022,    9,    4, 1612],\n",
       "       [2022,    9,    6, 1605]])"
      ]
     },
     "execution_count": 160,
     "metadata": {},
     "output_type": "execute_result"
    }
   ],
   "source": [
    "new_array = np.array(df_new)\n",
    "new_array"
   ]
  },
  {
   "cell_type": "code",
   "execution_count": null,
   "id": "9a13281a",
   "metadata": {},
   "outputs": [
    {
     "data": {
      "text/plain": [
       "array([   6,   29, 1454])"
      ]
     },
     "execution_count": 216,
     "metadata": {},
     "output_type": "execute_result"
    }
   ],
   "source": []
  },
  {
   "cell_type": "code",
   "execution_count": null,
   "id": "651b67e7",
   "metadata": {},
   "outputs": [
    {
     "ename": "NameError",
     "evalue": "name 'a' is not defined",
     "output_type": "error",
     "traceback": [
      "\u001b[0;31m---------------------------------------------------------------------------\u001b[0m",
      "\u001b[0;31mNameError\u001b[0m                                 Traceback (most recent call last)",
      "Input \u001b[0;32mIn [212]\u001b[0m, in \u001b[0;36m<cell line: 1>\u001b[0;34m()\u001b[0m\n\u001b[0;32m----> 1\u001b[0m a \u001b[38;5;241m=\u001b[39m \u001b[43ma\u001b[49m\u001b[38;5;241m.\u001b[39many(new_array \u001b[38;5;241m>\u001b[39m \u001b[38;5;241m2020\u001b[39m)\n\u001b[1;32m      2\u001b[0m a\n",
      "\u001b[0;31mNameError\u001b[0m: name 'a' is not defined"
     ]
    }
   ],
   "source": []
  },
  {
   "cell_type": "code",
   "execution_count": null,
   "id": "c190fb22",
   "metadata": {},
   "outputs": [
    {
     "data": {
      "text/plain": [
       "(332, 4)"
      ]
     },
     "execution_count": 176,
     "metadata": {},
     "output_type": "execute_result"
    }
   ],
   "source": [
    "new_array.shape"
   ]
  },
  {
   "cell_type": "code",
   "execution_count": null,
   "id": "ea55b090",
   "metadata": {},
   "outputs": [],
   "source": []
  }
 ],
 "metadata": {
  "kernelspec": {
   "display_name": "Python 3.10.6 64-bit",
   "language": "python",
   "name": "python3"
  },
  "language_info": {
   "codemirror_mode": {
    "name": "ipython",
    "version": 3
   },
   "file_extension": ".py",
   "mimetype": "text/x-python",
   "name": "python",
   "nbconvert_exporter": "python",
   "pygments_lexer": "ipython3",
   "version": "3.10.6"
  },
  "vscode": {
   "interpreter": {
    "hash": "aee8b7b246df8f9039afb4144a1f6fd8d2ca17a180786b69acc140d282b71a49"
   }
  }
 },
 "nbformat": 4,
 "nbformat_minor": 5
}
